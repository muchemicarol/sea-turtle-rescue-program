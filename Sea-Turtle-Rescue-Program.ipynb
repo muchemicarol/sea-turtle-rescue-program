{
 "cells": [
  {
   "cell_type": "markdown",
   "metadata": {},
   "source": [
    "**The objective of this challenge is to forecast the number of turtles caught per week per capture site. This will help Local Ocean plan their staff schedules and budget.**"
   ]
  },
  {
   "cell_type": "code",
   "execution_count": 46,
   "metadata": {},
   "outputs": [],
   "source": [
    "import numpy as np\n",
    "import pandas as pd\n",
    "import seaborn as sns\n",
    "\n",
    "pd.set_option(\"display.max_columns\", 200, \"display.max_rows\", 200)\n",
    "sns.set(rc={'figure.figsize':(11.7,8.27)})"
   ]
  },
  {
   "cell_type": "code",
   "execution_count": 47,
   "metadata": {},
   "outputs": [
    {
     "data": {
      "text/plain": [
       "(18062, 21)"
      ]
     },
     "execution_count": 47,
     "metadata": {},
     "output_type": "execute_result"
    }
   ],
   "source": [
    "turtle = pd.read_csv(\"train.csv\")\n",
    "varDesc = pd.read_csv(\"variable_definitions.csv\", engine=\"python\")\n",
    "submissionSample = pd.read_csv(\"Sample_sub.csv\")\n",
    "turtle.shape"
   ]
  },
  {
   "cell_type": "code",
   "execution_count": 48,
   "metadata": {
    "scrolled": true
   },
   "outputs": [
    {
     "data": {
      "text/html": [
       "<div>\n",
       "<style scoped>\n",
       "    .dataframe tbody tr th:only-of-type {\n",
       "        vertical-align: middle;\n",
       "    }\n",
       "\n",
       "    .dataframe tbody tr th {\n",
       "        vertical-align: top;\n",
       "    }\n",
       "\n",
       "    .dataframe thead th {\n",
       "        text-align: right;\n",
       "    }\n",
       "</style>\n",
       "<table border=\"1\" class=\"dataframe\">\n",
       "  <thead>\n",
       "    <tr style=\"text-align: right;\">\n",
       "      <th></th>\n",
       "      <th>Rescue_ID</th>\n",
       "      <th>Date_TimeCaught</th>\n",
       "      <th>Researcher</th>\n",
       "      <th>CaptureSite</th>\n",
       "      <th>ForagingGround</th>\n",
       "      <th>CaptureMethod</th>\n",
       "      <th>Fisher</th>\n",
       "      <th>LandingSite</th>\n",
       "      <th>Species</th>\n",
       "      <th>Tag_1</th>\n",
       "      <th>Tag_2</th>\n",
       "      <th>Lost_Tags</th>\n",
       "      <th>T_Number</th>\n",
       "      <th>CCL_cm</th>\n",
       "      <th>CCW_cm</th>\n",
       "      <th>Weight_Kg</th>\n",
       "      <th>Sex</th>\n",
       "      <th>TurtleCharacteristics</th>\n",
       "      <th>Status</th>\n",
       "      <th>ReleaseSite</th>\n",
       "      <th>Date_TimeRelease</th>\n",
       "    </tr>\n",
       "  </thead>\n",
       "  <tbody>\n",
       "    <tr>\n",
       "      <th>0</th>\n",
       "      <td>2000_RE_0060</td>\n",
       "      <td>2000-12-22</td>\n",
       "      <td>Researcher_25</td>\n",
       "      <td>CaptureSite_0</td>\n",
       "      <td>Ocean</td>\n",
       "      <td>Net</td>\n",
       "      <td>Fisher_1072</td>\n",
       "      <td>LandingSite_CaptureSiteCategory_2</td>\n",
       "      <td>Species_6</td>\n",
       "      <td>CC00147</td>\n",
       "      <td>None</td>\n",
       "      <td>NaN</td>\n",
       "      <td>NaN</td>\n",
       "      <td>64.70</td>\n",
       "      <td>62.60</td>\n",
       "      <td>NaN</td>\n",
       "      <td>Unknown</td>\n",
       "      <td>algae at rear of shell</td>\n",
       "      <td>Released</td>\n",
       "      <td>ReleaseSite_50</td>\n",
       "      <td>22/12/00</td>\n",
       "    </tr>\n",
       "    <tr>\n",
       "      <th>1</th>\n",
       "      <td>2001_RE_0187</td>\n",
       "      <td>2001-10-28</td>\n",
       "      <td>Researcher_6</td>\n",
       "      <td>CaptureSite_0</td>\n",
       "      <td>Ocean</td>\n",
       "      <td>Net</td>\n",
       "      <td>Fisher_520</td>\n",
       "      <td>LandingSite_CaptureSiteCategory_2</td>\n",
       "      <td>Species_6</td>\n",
       "      <td>W442</td>\n",
       "      <td>None</td>\n",
       "      <td>NaN</td>\n",
       "      <td>NaN</td>\n",
       "      <td>35.85</td>\n",
       "      <td>31.35</td>\n",
       "      <td>NaN</td>\n",
       "      <td>Unknown</td>\n",
       "      <td>multiple b's on front flippers&amp;  a lot of alga...</td>\n",
       "      <td>Released</td>\n",
       "      <td>ReleaseSite_62</td>\n",
       "      <td>28/10/01</td>\n",
       "    </tr>\n",
       "    <tr>\n",
       "      <th>2</th>\n",
       "      <td>2001_RE_0197</td>\n",
       "      <td>2001-11-01</td>\n",
       "      <td>Researcher_6</td>\n",
       "      <td>CaptureSite_0</td>\n",
       "      <td>Ocean</td>\n",
       "      <td>Net</td>\n",
       "      <td>Fisher_1669</td>\n",
       "      <td>LandingSite_CaptureSiteCategory_2</td>\n",
       "      <td>Species_5</td>\n",
       "      <td>KE0376</td>\n",
       "      <td>None</td>\n",
       "      <td>NaN</td>\n",
       "      <td>NaN</td>\n",
       "      <td>51.80</td>\n",
       "      <td>49.20</td>\n",
       "      <td>NaN</td>\n",
       "      <td>Unknown</td>\n",
       "      <td>clean</td>\n",
       "      <td>Released</td>\n",
       "      <td>ReleaseSite_50</td>\n",
       "      <td>01/11/01</td>\n",
       "    </tr>\n",
       "    <tr>\n",
       "      <th>3</th>\n",
       "      <td>2002_RE_0031</td>\n",
       "      <td>2002-03-11</td>\n",
       "      <td>Researcher_32</td>\n",
       "      <td>CaptureSite_0</td>\n",
       "      <td>Ocean</td>\n",
       "      <td>Net</td>\n",
       "      <td>Fisher_1798</td>\n",
       "      <td>LandingSite_CaptureSiteCategory_2</td>\n",
       "      <td>Species_6</td>\n",
       "      <td>CC00302</td>\n",
       "      <td>None</td>\n",
       "      <td>NaN</td>\n",
       "      <td>NaN</td>\n",
       "      <td>60.50</td>\n",
       "      <td>59.00</td>\n",
       "      <td>NaN</td>\n",
       "      <td>Unknown</td>\n",
       "      <td>1 b 3 CS+ calcerous algae at rear end of shell...</td>\n",
       "      <td>Released</td>\n",
       "      <td>ReleaseSite_50</td>\n",
       "      <td>11/03/02</td>\n",
       "    </tr>\n",
       "    <tr>\n",
       "      <th>4</th>\n",
       "      <td>2002_RE_0118</td>\n",
       "      <td>2002-08-08</td>\n",
       "      <td>Researcher_25</td>\n",
       "      <td>CaptureSite_0</td>\n",
       "      <td>Ocean</td>\n",
       "      <td>Beached</td>\n",
       "      <td>Fisher_1918</td>\n",
       "      <td>LandingSite_CaptureSiteCategory_2</td>\n",
       "      <td>Species_5</td>\n",
       "      <td>NotTagged_0113</td>\n",
       "      <td>None</td>\n",
       "      <td>NaN</td>\n",
       "      <td>NaN</td>\n",
       "      <td>34.70</td>\n",
       "      <td>33.00</td>\n",
       "      <td>NaN</td>\n",
       "      <td>Unknown</td>\n",
       "      <td>very lively+ right eye is hanging out + swolle...</td>\n",
       "      <td>Released</td>\n",
       "      <td>ReleaseSite_62</td>\n",
       "      <td>08/08/02</td>\n",
       "    </tr>\n",
       "  </tbody>\n",
       "</table>\n",
       "</div>"
      ],
      "text/plain": [
       "      Rescue_ID Date_TimeCaught     Researcher    CaptureSite ForagingGround  \\\n",
       "0  2000_RE_0060      2000-12-22  Researcher_25  CaptureSite_0          Ocean   \n",
       "1  2001_RE_0187      2001-10-28   Researcher_6  CaptureSite_0          Ocean   \n",
       "2  2001_RE_0197      2001-11-01   Researcher_6  CaptureSite_0          Ocean   \n",
       "3  2002_RE_0031      2002-03-11  Researcher_32  CaptureSite_0          Ocean   \n",
       "4  2002_RE_0118      2002-08-08  Researcher_25  CaptureSite_0          Ocean   \n",
       "\n",
       "  CaptureMethod       Fisher                        LandingSite    Species  \\\n",
       "0           Net  Fisher_1072  LandingSite_CaptureSiteCategory_2  Species_6   \n",
       "1           Net   Fisher_520  LandingSite_CaptureSiteCategory_2  Species_6   \n",
       "2           Net  Fisher_1669  LandingSite_CaptureSiteCategory_2  Species_5   \n",
       "3           Net  Fisher_1798  LandingSite_CaptureSiteCategory_2  Species_6   \n",
       "4       Beached  Fisher_1918  LandingSite_CaptureSiteCategory_2  Species_5   \n",
       "\n",
       "            Tag_1 Tag_2 Lost_Tags T_Number  CCL_cm  CCW_cm  Weight_Kg  \\\n",
       "0         CC00147  None       NaN      NaN   64.70   62.60        NaN   \n",
       "1            W442  None       NaN      NaN   35.85   31.35        NaN   \n",
       "2          KE0376  None       NaN      NaN   51.80   49.20        NaN   \n",
       "3         CC00302  None       NaN      NaN   60.50   59.00        NaN   \n",
       "4  NotTagged_0113  None       NaN      NaN   34.70   33.00        NaN   \n",
       "\n",
       "       Sex                              TurtleCharacteristics    Status  \\\n",
       "0  Unknown                             algae at rear of shell  Released   \n",
       "1  Unknown  multiple b's on front flippers&  a lot of alga...  Released   \n",
       "2  Unknown                                              clean  Released   \n",
       "3  Unknown  1 b 3 CS+ calcerous algae at rear end of shell...  Released   \n",
       "4  Unknown  very lively+ right eye is hanging out + swolle...  Released   \n",
       "\n",
       "      ReleaseSite Date_TimeRelease  \n",
       "0  ReleaseSite_50         22/12/00  \n",
       "1  ReleaseSite_62         28/10/01  \n",
       "2  ReleaseSite_50         01/11/01  \n",
       "3  ReleaseSite_50         11/03/02  \n",
       "4  ReleaseSite_62         08/08/02  "
      ]
     },
     "execution_count": 48,
     "metadata": {},
     "output_type": "execute_result"
    }
   ],
   "source": [
    "turtle.head()"
   ]
  },
  {
   "cell_type": "code",
   "execution_count": 50,
   "metadata": {},
   "outputs": [],
   "source": [
    "turtle[\"ForagingGround\"] = turtle[\"ForagingGround\"].apply(lambda x: str(x).lower())\n",
    "turtle[\"CaptureMethod\"] = turtle[\"CaptureMethod\"].apply(lambda x: str(x).lower())"
   ]
  },
  {
   "cell_type": "code",
   "execution_count": 51,
   "metadata": {},
   "outputs": [
    {
     "data": {
      "text/plain": [
       "dtype('<M8[ns]')"
      ]
     },
     "execution_count": 51,
     "metadata": {},
     "output_type": "execute_result"
    }
   ],
   "source": [
    "turtle[\"Date_TimeCaught\"] = pd.to_datetime(turtle[\"Date_TimeCaught\"])\n",
    "turtle[\"Date_TimeCaught\"].dtype"
   ]
  },
  {
   "cell_type": "code",
   "execution_count": 52,
   "metadata": {
    "scrolled": true
   },
   "outputs": [
    {
     "data": {
      "text/html": [
       "<div>\n",
       "<style scoped>\n",
       "    .dataframe tbody tr th:only-of-type {\n",
       "        vertical-align: middle;\n",
       "    }\n",
       "\n",
       "    .dataframe tbody tr th {\n",
       "        vertical-align: top;\n",
       "    }\n",
       "\n",
       "    .dataframe thead th {\n",
       "        text-align: right;\n",
       "    }\n",
       "</style>\n",
       "<table border=\"1\" class=\"dataframe\">\n",
       "  <thead>\n",
       "    <tr style=\"text-align: right;\">\n",
       "      <th></th>\n",
       "      <th>Date_TimeCaughtYear</th>\n",
       "      <th>Date_TimeCaughtWeek</th>\n",
       "    </tr>\n",
       "  </thead>\n",
       "  <tbody>\n",
       "    <tr>\n",
       "      <th>0</th>\n",
       "      <td>2000</td>\n",
       "      <td>51</td>\n",
       "    </tr>\n",
       "    <tr>\n",
       "      <th>1</th>\n",
       "      <td>2001</td>\n",
       "      <td>43</td>\n",
       "    </tr>\n",
       "    <tr>\n",
       "      <th>2</th>\n",
       "      <td>2001</td>\n",
       "      <td>44</td>\n",
       "    </tr>\n",
       "    <tr>\n",
       "      <th>3</th>\n",
       "      <td>2002</td>\n",
       "      <td>10</td>\n",
       "    </tr>\n",
       "    <tr>\n",
       "      <th>4</th>\n",
       "      <td>2002</td>\n",
       "      <td>31</td>\n",
       "    </tr>\n",
       "  </tbody>\n",
       "</table>\n",
       "</div>"
      ],
      "text/plain": [
       "  Date_TimeCaughtYear Date_TimeCaughtWeek\n",
       "0                2000                  51\n",
       "1                2001                  43\n",
       "2                2001                  44\n",
       "3                2002                  10\n",
       "4                2002                  31"
      ]
     },
     "execution_count": 52,
     "metadata": {},
     "output_type": "execute_result"
    }
   ],
   "source": [
    "turtle[\"Date_TimeCaughtYear\"] = turtle[\"Date_TimeCaught\"].apply(lambda x: x.strftime(\"%Y\"))\n",
    "turtle[\"Date_TimeCaughtWeek\"] = turtle[\"Date_TimeCaught\"].apply(lambda x: x.strftime(\"%W\"))\n",
    "\n",
    "turtle[[\"Date_TimeCaughtYear\", \"Date_TimeCaughtWeek\"]].head()"
   ]
  },
  {
   "cell_type": "code",
   "execution_count": 53,
   "metadata": {},
   "outputs": [
    {
     "data": {
      "text/html": [
       "<div>\n",
       "<style scoped>\n",
       "    .dataframe tbody tr th:only-of-type {\n",
       "        vertical-align: middle;\n",
       "    }\n",
       "\n",
       "    .dataframe tbody tr th {\n",
       "        vertical-align: top;\n",
       "    }\n",
       "\n",
       "    .dataframe thead th {\n",
       "        text-align: right;\n",
       "    }\n",
       "</style>\n",
       "<table border=\"1\" class=\"dataframe\">\n",
       "  <thead>\n",
       "    <tr style=\"text-align: right;\">\n",
       "      <th></th>\n",
       "      <th>Rescue_ID</th>\n",
       "      <th>Date_TimeCaught</th>\n",
       "      <th>Researcher</th>\n",
       "      <th>CaptureSite</th>\n",
       "      <th>ForagingGround</th>\n",
       "      <th>CaptureMethod</th>\n",
       "      <th>Fisher</th>\n",
       "      <th>LandingSite</th>\n",
       "      <th>Species</th>\n",
       "      <th>Tag_1</th>\n",
       "      <th>Tag_2</th>\n",
       "      <th>Lost_Tags</th>\n",
       "      <th>T_Number</th>\n",
       "      <th>CCL_cm</th>\n",
       "      <th>CCW_cm</th>\n",
       "      <th>Weight_Kg</th>\n",
       "      <th>Sex</th>\n",
       "      <th>TurtleCharacteristics</th>\n",
       "      <th>Status</th>\n",
       "      <th>ReleaseSite</th>\n",
       "      <th>Date_TimeRelease</th>\n",
       "      <th>Date_TimeCaughtYear</th>\n",
       "      <th>Date_TimeCaughtWeek</th>\n",
       "    </tr>\n",
       "  </thead>\n",
       "  <tbody>\n",
       "    <tr>\n",
       "      <th>0</th>\n",
       "      <td>2000_RE_0060</td>\n",
       "      <td>2000-12-22</td>\n",
       "      <td>Researcher_25</td>\n",
       "      <td>CaptureSite_0</td>\n",
       "      <td>ocean</td>\n",
       "      <td>net</td>\n",
       "      <td>Fisher_1072</td>\n",
       "      <td>LandingSite_CaptureSiteCategory_2</td>\n",
       "      <td>Species_6</td>\n",
       "      <td>CC00147</td>\n",
       "      <td>None</td>\n",
       "      <td>NaN</td>\n",
       "      <td>NaN</td>\n",
       "      <td>64.70</td>\n",
       "      <td>62.60</td>\n",
       "      <td>NaN</td>\n",
       "      <td>Unknown</td>\n",
       "      <td>algae at rear of shell</td>\n",
       "      <td>Released</td>\n",
       "      <td>ReleaseSite_50</td>\n",
       "      <td>22/12/00</td>\n",
       "      <td>2000</td>\n",
       "      <td>51</td>\n",
       "    </tr>\n",
       "    <tr>\n",
       "      <th>1</th>\n",
       "      <td>2001_RE_0187</td>\n",
       "      <td>2001-10-28</td>\n",
       "      <td>Researcher_6</td>\n",
       "      <td>CaptureSite_0</td>\n",
       "      <td>ocean</td>\n",
       "      <td>net</td>\n",
       "      <td>Fisher_520</td>\n",
       "      <td>LandingSite_CaptureSiteCategory_2</td>\n",
       "      <td>Species_6</td>\n",
       "      <td>W442</td>\n",
       "      <td>None</td>\n",
       "      <td>NaN</td>\n",
       "      <td>NaN</td>\n",
       "      <td>35.85</td>\n",
       "      <td>31.35</td>\n",
       "      <td>NaN</td>\n",
       "      <td>Unknown</td>\n",
       "      <td>multiple b's on front flippers&amp;  a lot of alga...</td>\n",
       "      <td>Released</td>\n",
       "      <td>ReleaseSite_62</td>\n",
       "      <td>28/10/01</td>\n",
       "      <td>2001</td>\n",
       "      <td>43</td>\n",
       "    </tr>\n",
       "    <tr>\n",
       "      <th>2</th>\n",
       "      <td>2001_RE_0197</td>\n",
       "      <td>2001-11-01</td>\n",
       "      <td>Researcher_6</td>\n",
       "      <td>CaptureSite_0</td>\n",
       "      <td>ocean</td>\n",
       "      <td>net</td>\n",
       "      <td>Fisher_1669</td>\n",
       "      <td>LandingSite_CaptureSiteCategory_2</td>\n",
       "      <td>Species_5</td>\n",
       "      <td>KE0376</td>\n",
       "      <td>None</td>\n",
       "      <td>NaN</td>\n",
       "      <td>NaN</td>\n",
       "      <td>51.80</td>\n",
       "      <td>49.20</td>\n",
       "      <td>NaN</td>\n",
       "      <td>Unknown</td>\n",
       "      <td>clean</td>\n",
       "      <td>Released</td>\n",
       "      <td>ReleaseSite_50</td>\n",
       "      <td>01/11/01</td>\n",
       "      <td>2001</td>\n",
       "      <td>44</td>\n",
       "    </tr>\n",
       "    <tr>\n",
       "      <th>3</th>\n",
       "      <td>2002_RE_0031</td>\n",
       "      <td>2002-03-11</td>\n",
       "      <td>Researcher_32</td>\n",
       "      <td>CaptureSite_0</td>\n",
       "      <td>ocean</td>\n",
       "      <td>net</td>\n",
       "      <td>Fisher_1798</td>\n",
       "      <td>LandingSite_CaptureSiteCategory_2</td>\n",
       "      <td>Species_6</td>\n",
       "      <td>CC00302</td>\n",
       "      <td>None</td>\n",
       "      <td>NaN</td>\n",
       "      <td>NaN</td>\n",
       "      <td>60.50</td>\n",
       "      <td>59.00</td>\n",
       "      <td>NaN</td>\n",
       "      <td>Unknown</td>\n",
       "      <td>1 b 3 CS+ calcerous algae at rear end of shell...</td>\n",
       "      <td>Released</td>\n",
       "      <td>ReleaseSite_50</td>\n",
       "      <td>11/03/02</td>\n",
       "      <td>2002</td>\n",
       "      <td>10</td>\n",
       "    </tr>\n",
       "    <tr>\n",
       "      <th>4</th>\n",
       "      <td>2002_RE_0118</td>\n",
       "      <td>2002-08-08</td>\n",
       "      <td>Researcher_25</td>\n",
       "      <td>CaptureSite_0</td>\n",
       "      <td>ocean</td>\n",
       "      <td>beached</td>\n",
       "      <td>Fisher_1918</td>\n",
       "      <td>LandingSite_CaptureSiteCategory_2</td>\n",
       "      <td>Species_5</td>\n",
       "      <td>NotTagged_0113</td>\n",
       "      <td>None</td>\n",
       "      <td>NaN</td>\n",
       "      <td>NaN</td>\n",
       "      <td>34.70</td>\n",
       "      <td>33.00</td>\n",
       "      <td>NaN</td>\n",
       "      <td>Unknown</td>\n",
       "      <td>very lively+ right eye is hanging out + swolle...</td>\n",
       "      <td>Released</td>\n",
       "      <td>ReleaseSite_62</td>\n",
       "      <td>08/08/02</td>\n",
       "      <td>2002</td>\n",
       "      <td>31</td>\n",
       "    </tr>\n",
       "  </tbody>\n",
       "</table>\n",
       "</div>"
      ],
      "text/plain": [
       "      Rescue_ID Date_TimeCaught     Researcher    CaptureSite ForagingGround  \\\n",
       "0  2000_RE_0060      2000-12-22  Researcher_25  CaptureSite_0          ocean   \n",
       "1  2001_RE_0187      2001-10-28   Researcher_6  CaptureSite_0          ocean   \n",
       "2  2001_RE_0197      2001-11-01   Researcher_6  CaptureSite_0          ocean   \n",
       "3  2002_RE_0031      2002-03-11  Researcher_32  CaptureSite_0          ocean   \n",
       "4  2002_RE_0118      2002-08-08  Researcher_25  CaptureSite_0          ocean   \n",
       "\n",
       "  CaptureMethod       Fisher                        LandingSite    Species  \\\n",
       "0           net  Fisher_1072  LandingSite_CaptureSiteCategory_2  Species_6   \n",
       "1           net   Fisher_520  LandingSite_CaptureSiteCategory_2  Species_6   \n",
       "2           net  Fisher_1669  LandingSite_CaptureSiteCategory_2  Species_5   \n",
       "3           net  Fisher_1798  LandingSite_CaptureSiteCategory_2  Species_6   \n",
       "4       beached  Fisher_1918  LandingSite_CaptureSiteCategory_2  Species_5   \n",
       "\n",
       "            Tag_1 Tag_2 Lost_Tags T_Number  CCL_cm  CCW_cm  Weight_Kg  \\\n",
       "0         CC00147  None       NaN      NaN   64.70   62.60        NaN   \n",
       "1            W442  None       NaN      NaN   35.85   31.35        NaN   \n",
       "2          KE0376  None       NaN      NaN   51.80   49.20        NaN   \n",
       "3         CC00302  None       NaN      NaN   60.50   59.00        NaN   \n",
       "4  NotTagged_0113  None       NaN      NaN   34.70   33.00        NaN   \n",
       "\n",
       "       Sex                              TurtleCharacteristics    Status  \\\n",
       "0  Unknown                             algae at rear of shell  Released   \n",
       "1  Unknown  multiple b's on front flippers&  a lot of alga...  Released   \n",
       "2  Unknown                                              clean  Released   \n",
       "3  Unknown  1 b 3 CS+ calcerous algae at rear end of shell...  Released   \n",
       "4  Unknown  very lively+ right eye is hanging out + swolle...  Released   \n",
       "\n",
       "      ReleaseSite Date_TimeRelease Date_TimeCaughtYear Date_TimeCaughtWeek  \n",
       "0  ReleaseSite_50         22/12/00                2000                  51  \n",
       "1  ReleaseSite_62         28/10/01                2001                  43  \n",
       "2  ReleaseSite_50         01/11/01                2001                  44  \n",
       "3  ReleaseSite_50         11/03/02                2002                  10  \n",
       "4  ReleaseSite_62         08/08/02                2002                  31  "
      ]
     },
     "execution_count": 53,
     "metadata": {},
     "output_type": "execute_result"
    }
   ],
   "source": [
    "turtle.head()"
   ]
  },
  {
   "cell_type": "markdown",
   "metadata": {},
   "source": [
    "## Exploratory Data Analysis"
   ]
  },
  {
   "cell_type": "code",
   "execution_count": 54,
   "metadata": {},
   "outputs": [
    {
     "data": {
      "text/plain": [
       "<matplotlib.axes._subplots.AxesSubplot at 0x7f285adaf970>"
      ]
     },
     "execution_count": 54,
     "metadata": {},
     "output_type": "execute_result"
    },
    {
     "data": {
      "image/png": "[encoded data removed]",
      "text/plain": [
       "<Figure size 842.4x595.44 with 1 Axes>"
      ]
     },
     "metadata": {},
     "output_type": "display_data"
    }
   ],
   "source": [
    "sns.countplot(y=\"ForagingGround\", data=turtle)"
   ]
  },
  {
   "cell_type": "code",
   "execution_count": 55,
   "metadata": {},
   "outputs": [
    {
     "data": {
      "text/plain": [
       "<matplotlib.axes._subplots.AxesSubplot at 0x7f285adaf070>"
      ]
     },
     "execution_count": 55,
     "metadata": {},
     "output_type": "execute_result"
    },
    {
     "data": {
      "image/png": "[encoded data removed]",
      "text/plain": [
       "<Figure size 842.4x595.44 with 1 Axes>"
      ]
     },
     "metadata": {},
     "output_type": "display_data"
    }
   ],
   "source": [
    "sns.countplot(y=\"CaptureMethod\", data=turtle, order=turtle[\"CaptureMethod\"].value_counts().index)"
   ]
  },
  {
   "cell_type": "code",
   "execution_count": 119,
   "metadata": {},
   "outputs": [
    {
     "data": {
      "text/plain": [
       "<matplotlib.axes._subplots.AxesSubplot at 0x7f2858a67a60>"
      ]
     },
     "execution_count": 119,
     "metadata": {},
     "output_type": "execute_result"
    },
    {
     "data": {
      "image/png": "[encoded data removed]",
      "text/plain": [
       "<Figure size 842.4x595.44 with 1 Axes>"
      ]
     },
     "metadata": {},
     "output_type": "display_data"
    }
   ],
   "source": [
    "sns.distplot(turtle[\"CCL_cm\"], kde=False)"
   ]
  },
  {
   "cell_type": "code",
   "execution_count": 120,
   "metadata": {},
   "outputs": [
    {
     "data": {
      "text/plain": [
       "<matplotlib.axes._subplots.AxesSubplot at 0x7f2858294eb0>"
      ]
     },
     "execution_count": 120,
     "metadata": {},
     "output_type": "execute_result"
    },
    {
     "data": {
      "image/png": "[encoded data removed]",
      "text/plain": [
       "<Figure size 842.4x595.44 with 1 Axes>"
      ]
     },
     "metadata": {},
     "output_type": "display_data"
    }
   ],
   "source": [
    "sns.distplot(turtle[\"CCW_cm\"], kde=False)"
   ]
  },
  {
   "cell_type": "code",
   "execution_count": 126,
   "metadata": {},
   "outputs": [
    {
     "data": {
      "text/plain": [
       "<matplotlib.axes._subplots.AxesSubplot at 0x7f28575072b0>"
      ]
     },
     "execution_count": 126,
     "metadata": {},
     "output_type": "execute_result"
    },
    {
     "data": {
      "image/png": "[encoded data removed]",
      "text/plain": [
       "<Figure size 842.4x595.44 with 1 Axes>"
      ]
     },
     "metadata": {},
     "output_type": "display_data"
    }
   ],
   "source": [
    "sns.distplot(turtle[\"Weight_Kg\"], kde=False)"
   ]
  },
  {
   "cell_type": "code",
   "execution_count": null,
   "metadata": {},
   "outputs": [],
   "source": []
  },
  {
   "cell_type": "code",
   "execution_count": null,
   "metadata": {},
   "outputs": [],
   "source": [
    "turtle.isnull().sum()"
   ]
  },
  {
   "cell_type": "code",
   "execution_count": 58,
   "metadata": {},
   "outputs": [],
   "source": [
    "turtle.fillna(value={\"Weight_Kg\": 0, \"Sex\": \"Unknown\", \"Lost_Tags\": \"None\", \"T_Number\": \"None\"}, inplace=True)\n",
    "turtle.replace({\"Sex\": {\"Not_Recorded\": \"Unknown\"}}, inplace=True)"
   ]
  },
  {
   "cell_type": "code",
   "execution_count": 60,
   "metadata": {},
   "outputs": [
    {
     "data": {
      "text/plain": [
       "array(['Unknown', 'Female', 'Male'], dtype=object)"
      ]
     },
     "execution_count": 60,
     "metadata": {},
     "output_type": "execute_result"
    }
   ],
   "source": [
    "turtle[\"Sex\"].unique()"
   ]
  },
  {
   "cell_type": "code",
   "execution_count": 61,
   "metadata": {},
   "outputs": [
    {
     "data": {
      "text/plain": [
       "0    0.0\n",
       "1    0.0\n",
       "Name: Weight_Kg, dtype: float64"
      ]
     },
     "execution_count": 61,
     "metadata": {},
     "output_type": "execute_result"
    }
   ],
   "source": [
    "turtle[\"Weight_Kg\"].head(2)"
   ]
  },
  {
   "cell_type": "code",
   "execution_count": 62,
   "metadata": {},
   "outputs": [
    {
     "data": {
      "text/html": [
       "<div>\n",
       "<style scoped>\n",
       "    .dataframe tbody tr th:only-of-type {\n",
       "        vertical-align: middle;\n",
       "    }\n",
       "\n",
       "    .dataframe tbody tr th {\n",
       "        vertical-align: top;\n",
       "    }\n",
       "\n",
       "    .dataframe thead th {\n",
       "        text-align: right;\n",
       "    }\n",
       "</style>\n",
       "<table border=\"1\" class=\"dataframe\">\n",
       "  <thead>\n",
       "    <tr style=\"text-align: right;\">\n",
       "      <th></th>\n",
       "      <th>ID</th>\n",
       "      <th>Capture_Number</th>\n",
       "    </tr>\n",
       "  </thead>\n",
       "  <tbody>\n",
       "    <tr>\n",
       "      <th>0</th>\n",
       "      <td>CaptureSite_0_201901</td>\n",
       "      <td>7</td>\n",
       "    </tr>\n",
       "    <tr>\n",
       "      <th>1</th>\n",
       "      <td>CaptureSite_0_201902</td>\n",
       "      <td>1</td>\n",
       "    </tr>\n",
       "  </tbody>\n",
       "</table>\n",
       "</div>"
      ],
      "text/plain": [
       "                     ID  Capture_Number\n",
       "0  CaptureSite_0_201901               7\n",
       "1  CaptureSite_0_201902               1"
      ]
     },
     "execution_count": 62,
     "metadata": {},
     "output_type": "execute_result"
    }
   ],
   "source": [
    "submissionSample.head(2)"
   ]
  },
  {
   "cell_type": "code",
   "execution_count": 63,
   "metadata": {},
   "outputs": [
    {
     "data": {
      "text/html": [
       "<div>\n",
       "<style scoped>\n",
       "    .dataframe tbody tr th:only-of-type {\n",
       "        vertical-align: middle;\n",
       "    }\n",
       "\n",
       "    .dataframe tbody tr th {\n",
       "        vertical-align: top;\n",
       "    }\n",
       "\n",
       "    .dataframe thead th {\n",
       "        text-align: right;\n",
       "    }\n",
       "</style>\n",
       "<table border=\"1\" class=\"dataframe\">\n",
       "  <thead>\n",
       "    <tr style=\"text-align: right;\">\n",
       "      <th></th>\n",
       "      <th>Target</th>\n",
       "      <th>CaptureSite</th>\n",
       "    </tr>\n",
       "  </thead>\n",
       "  <tbody>\n",
       "    <tr>\n",
       "      <th>0</th>\n",
       "      <td>CaptureSite_0_200051</td>\n",
       "      <td>CaptureSite_0</td>\n",
       "    </tr>\n",
       "    <tr>\n",
       "      <th>1</th>\n",
       "      <td>CaptureSite_0_200143</td>\n",
       "      <td>CaptureSite_0</td>\n",
       "    </tr>\n",
       "    <tr>\n",
       "      <th>2</th>\n",
       "      <td>CaptureSite_0_200144</td>\n",
       "      <td>CaptureSite_0</td>\n",
       "    </tr>\n",
       "    <tr>\n",
       "      <th>3</th>\n",
       "      <td>CaptureSite_0_200210</td>\n",
       "      <td>CaptureSite_0</td>\n",
       "    </tr>\n",
       "    <tr>\n",
       "      <th>4</th>\n",
       "      <td>CaptureSite_0_200231</td>\n",
       "      <td>CaptureSite_0</td>\n",
       "    </tr>\n",
       "  </tbody>\n",
       "</table>\n",
       "</div>"
      ],
      "text/plain": [
       "                 Target    CaptureSite\n",
       "0  CaptureSite_0_200051  CaptureSite_0\n",
       "1  CaptureSite_0_200143  CaptureSite_0\n",
       "2  CaptureSite_0_200144  CaptureSite_0\n",
       "3  CaptureSite_0_200210  CaptureSite_0\n",
       "4  CaptureSite_0_200231  CaptureSite_0"
      ]
     },
     "execution_count": 63,
     "metadata": {},
     "output_type": "execute_result"
    }
   ],
   "source": [
    "turtle[\"Target\"] = turtle[\"CaptureSite\"] + \"_\" + turtle[\"Date_TimeCaughtYear\"] + turtle[\"Date_TimeCaughtWeek\"]\n",
    "turtle[[\"Target\", \"CaptureSite\"]].head()"
   ]
  },
  {
   "cell_type": "code",
   "execution_count": 104,
   "metadata": {},
   "outputs": [
    {
     "data": {
      "text/plain": [
       "(7971, 17)"
      ]
     },
     "execution_count": 104,
     "metadata": {},
     "output_type": "execute_result"
    }
   ],
   "source": [
    "trainTurtle = turtle.groupby([\"Target\", \"CaptureSite\", \"Date_TimeCaughtYear\"]).agg({\"Rescue_ID\": \"count\", \"Researcher\": \"nunique\", \n",
    "                                                             \"LandingSite\": \"nunique\", \n",
    "                                                             \"ForagingGround\": \"nunique\", \n",
    "                                                             \"CaptureMethod\": \"nunique\", \"Fisher\": \"nunique\", \n",
    "                                                             \"Species\": \"nunique\", \"Lost_Tags\": \"nunique\", \n",
    "                                                             \"CCL_cm\": \"mean\", \"CCW_cm\": \"mean\", \n",
    "                                                             \"Weight_Kg\": \"mean\", \"Sex\": \"nunique\", \n",
    "                                                             \"Status\": \"nunique\", \n",
    "                                                             \"ReleaseSite\": \"nunique\"}).reset_index()\n",
    "trainTurtle.shape"
   ]
  },
  {
   "cell_type": "code",
   "execution_count": 105,
   "metadata": {},
   "outputs": [],
   "source": [
    "trainTurtle.rename(columns={\"Target\": \"ID\", \"Rescue_ID\": \"Capture_Number\"}, inplace=True)"
   ]
  },
  {
   "cell_type": "code",
   "execution_count": 109,
   "metadata": {},
   "outputs": [],
   "source": [
    "trainTurtle[\"Date_TimeCaughtYear\"] = pd.to_numeric(trainTurtle[\"Date_TimeCaughtYear\"])"
   ]
  },
  {
   "cell_type": "code",
   "execution_count": 106,
   "metadata": {},
   "outputs": [
    {
     "data": {
      "text/html": [
       "<div>\n",
       "<style scoped>\n",
       "    .dataframe tbody tr th:only-of-type {\n",
       "        vertical-align: middle;\n",
       "    }\n",
       "\n",
       "    .dataframe tbody tr th {\n",
       "        vertical-align: top;\n",
       "    }\n",
       "\n",
       "    .dataframe thead th {\n",
       "        text-align: right;\n",
       "    }\n",
       "</style>\n",
       "<table border=\"1\" class=\"dataframe\">\n",
       "  <thead>\n",
       "    <tr style=\"text-align: right;\">\n",
       "      <th></th>\n",
       "      <th>ID</th>\n",
       "      <th>CaptureSite</th>\n",
       "      <th>Date_TimeCaughtYear</th>\n",
       "      <th>Capture_Number</th>\n",
       "      <th>Researcher</th>\n",
       "      <th>LandingSite</th>\n",
       "      <th>ForagingGround</th>\n",
       "      <th>CaptureMethod</th>\n",
       "      <th>Fisher</th>\n",
       "      <th>Species</th>\n",
       "      <th>Lost_Tags</th>\n",
       "      <th>CCL_cm</th>\n",
       "      <th>CCW_cm</th>\n",
       "      <th>Weight_Kg</th>\n",
       "      <th>Sex</th>\n",
       "      <th>Status</th>\n",
       "      <th>ReleaseSite</th>\n",
       "    </tr>\n",
       "  </thead>\n",
       "  <tbody>\n",
       "    <tr>\n",
       "      <th>0</th>\n",
       "      <td>CaptureSite_0_200051</td>\n",
       "      <td>CaptureSite_0</td>\n",
       "      <td>2000</td>\n",
       "      <td>1</td>\n",
       "      <td>1</td>\n",
       "      <td>1</td>\n",
       "      <td>1</td>\n",
       "      <td>1</td>\n",
       "      <td>1</td>\n",
       "      <td>1</td>\n",
       "      <td>1</td>\n",
       "      <td>64.70</td>\n",
       "      <td>62.60</td>\n",
       "      <td>0.0</td>\n",
       "      <td>1</td>\n",
       "      <td>1</td>\n",
       "      <td>1</td>\n",
       "    </tr>\n",
       "    <tr>\n",
       "      <th>1</th>\n",
       "      <td>CaptureSite_0_200143</td>\n",
       "      <td>CaptureSite_0</td>\n",
       "      <td>2001</td>\n",
       "      <td>1</td>\n",
       "      <td>1</td>\n",
       "      <td>1</td>\n",
       "      <td>1</td>\n",
       "      <td>1</td>\n",
       "      <td>1</td>\n",
       "      <td>1</td>\n",
       "      <td>1</td>\n",
       "      <td>35.85</td>\n",
       "      <td>31.35</td>\n",
       "      <td>0.0</td>\n",
       "      <td>1</td>\n",
       "      <td>1</td>\n",
       "      <td>1</td>\n",
       "    </tr>\n",
       "    <tr>\n",
       "      <th>2</th>\n",
       "      <td>CaptureSite_0_200144</td>\n",
       "      <td>CaptureSite_0</td>\n",
       "      <td>2001</td>\n",
       "      <td>1</td>\n",
       "      <td>1</td>\n",
       "      <td>1</td>\n",
       "      <td>1</td>\n",
       "      <td>1</td>\n",
       "      <td>1</td>\n",
       "      <td>1</td>\n",
       "      <td>1</td>\n",
       "      <td>51.80</td>\n",
       "      <td>49.20</td>\n",
       "      <td>0.0</td>\n",
       "      <td>1</td>\n",
       "      <td>1</td>\n",
       "      <td>1</td>\n",
       "    </tr>\n",
       "    <tr>\n",
       "      <th>3</th>\n",
       "      <td>CaptureSite_0_200210</td>\n",
       "      <td>CaptureSite_0</td>\n",
       "      <td>2002</td>\n",
       "      <td>1</td>\n",
       "      <td>1</td>\n",
       "      <td>1</td>\n",
       "      <td>1</td>\n",
       "      <td>1</td>\n",
       "      <td>1</td>\n",
       "      <td>1</td>\n",
       "      <td>1</td>\n",
       "      <td>60.50</td>\n",
       "      <td>59.00</td>\n",
       "      <td>0.0</td>\n",
       "      <td>1</td>\n",
       "      <td>1</td>\n",
       "      <td>1</td>\n",
       "    </tr>\n",
       "    <tr>\n",
       "      <th>4</th>\n",
       "      <td>CaptureSite_0_200231</td>\n",
       "      <td>CaptureSite_0</td>\n",
       "      <td>2002</td>\n",
       "      <td>2</td>\n",
       "      <td>1</td>\n",
       "      <td>1</td>\n",
       "      <td>1</td>\n",
       "      <td>2</td>\n",
       "      <td>1</td>\n",
       "      <td>1</td>\n",
       "      <td>1</td>\n",
       "      <td>33.95</td>\n",
       "      <td>31.85</td>\n",
       "      <td>0.0</td>\n",
       "      <td>1</td>\n",
       "      <td>1</td>\n",
       "      <td>2</td>\n",
       "    </tr>\n",
       "  </tbody>\n",
       "</table>\n",
       "</div>"
      ],
      "text/plain": [
       "                     ID    CaptureSite Date_TimeCaughtYear  Capture_Number  \\\n",
       "0  CaptureSite_0_200051  CaptureSite_0                2000               1   \n",
       "1  CaptureSite_0_200143  CaptureSite_0                2001               1   \n",
       "2  CaptureSite_0_200144  CaptureSite_0                2001               1   \n",
       "3  CaptureSite_0_200210  CaptureSite_0                2002               1   \n",
       "4  CaptureSite_0_200231  CaptureSite_0                2002               2   \n",
       "\n",
       "   Researcher  LandingSite  ForagingGround  CaptureMethod  Fisher  Species  \\\n",
       "0           1            1               1              1       1        1   \n",
       "1           1            1               1              1       1        1   \n",
       "2           1            1               1              1       1        1   \n",
       "3           1            1               1              1       1        1   \n",
       "4           1            1               1              2       1        1   \n",
       "\n",
       "   Lost_Tags  CCL_cm  CCW_cm  Weight_Kg  Sex  Status  ReleaseSite  \n",
       "0          1   64.70   62.60        0.0    1       1            1  \n",
       "1          1   35.85   31.35        0.0    1       1            1  \n",
       "2          1   51.80   49.20        0.0    1       1            1  \n",
       "3          1   60.50   59.00        0.0    1       1            1  \n",
       "4          1   33.95   31.85        0.0    1       1            2  "
      ]
     },
     "execution_count": 106,
     "metadata": {},
     "output_type": "execute_result"
    }
   ],
   "source": [
    "trainTurtle.head()"
   ]
  },
  {
   "cell_type": "code",
   "execution_count": 124,
   "metadata": {},
   "outputs": [
    {
     "data": {
      "text/html": [
       "<div>\n",
       "<style scoped>\n",
       "    .dataframe tbody tr th:only-of-type {\n",
       "        vertical-align: middle;\n",
       "    }\n",
       "\n",
       "    .dataframe tbody tr th {\n",
       "        vertical-align: top;\n",
       "    }\n",
       "\n",
       "    .dataframe thead th {\n",
       "        text-align: right;\n",
       "    }\n",
       "</style>\n",
       "<table border=\"1\" class=\"dataframe\">\n",
       "  <thead>\n",
       "    <tr style=\"text-align: right;\">\n",
       "      <th></th>\n",
       "      <th>ID</th>\n",
       "      <th>CaptureSite</th>\n",
       "      <th>Date_TimeCaughtYear</th>\n",
       "      <th>Capture_Number</th>\n",
       "      <th>Researcher</th>\n",
       "      <th>LandingSite</th>\n",
       "      <th>ForagingGround</th>\n",
       "      <th>CaptureMethod</th>\n",
       "      <th>Fisher</th>\n",
       "      <th>Species</th>\n",
       "      <th>Lost_Tags</th>\n",
       "      <th>CCL_cm</th>\n",
       "      <th>CCW_cm</th>\n",
       "      <th>Weight_Kg</th>\n",
       "      <th>Sex</th>\n",
       "      <th>Status</th>\n",
       "      <th>ReleaseSite</th>\n",
       "    </tr>\n",
       "  </thead>\n",
       "  <tbody>\n",
       "    <tr>\n",
       "      <th>5166</th>\n",
       "      <td>CaptureSite_25_200847</td>\n",
       "      <td>CaptureSite_25</td>\n",
       "      <td>2008</td>\n",
       "      <td>35</td>\n",
       "      <td>1</td>\n",
       "      <td>1</td>\n",
       "      <td>1</td>\n",
       "      <td>1</td>\n",
       "      <td>7</td>\n",
       "      <td>1</td>\n",
       "      <td>3</td>\n",
       "      <td>48.831429</td>\n",
       "      <td>45.380000</td>\n",
       "      <td>0.000000</td>\n",
       "      <td>1</td>\n",
       "      <td>1</td>\n",
       "      <td>1</td>\n",
       "    </tr>\n",
       "    <tr>\n",
       "      <th>5170</th>\n",
       "      <td>CaptureSite_25_200851</td>\n",
       "      <td>CaptureSite_25</td>\n",
       "      <td>2008</td>\n",
       "      <td>28</td>\n",
       "      <td>1</td>\n",
       "      <td>1</td>\n",
       "      <td>1</td>\n",
       "      <td>1</td>\n",
       "      <td>3</td>\n",
       "      <td>1</td>\n",
       "      <td>2</td>\n",
       "      <td>49.278571</td>\n",
       "      <td>46.089286</td>\n",
       "      <td>0.000000</td>\n",
       "      <td>1</td>\n",
       "      <td>0</td>\n",
       "      <td>2</td>\n",
       "    </tr>\n",
       "    <tr>\n",
       "      <th>5916</th>\n",
       "      <td>CaptureSite_27_201307</td>\n",
       "      <td>CaptureSite_27</td>\n",
       "      <td>2013</td>\n",
       "      <td>23</td>\n",
       "      <td>4</td>\n",
       "      <td>1</td>\n",
       "      <td>1</td>\n",
       "      <td>1</td>\n",
       "      <td>4</td>\n",
       "      <td>1</td>\n",
       "      <td>3</td>\n",
       "      <td>58.982609</td>\n",
       "      <td>53.278261</td>\n",
       "      <td>31.032609</td>\n",
       "      <td>2</td>\n",
       "      <td>2</td>\n",
       "      <td>4</td>\n",
       "    </tr>\n",
       "    <tr>\n",
       "      <th>5167</th>\n",
       "      <td>CaptureSite_25_200848</td>\n",
       "      <td>CaptureSite_25</td>\n",
       "      <td>2008</td>\n",
       "      <td>22</td>\n",
       "      <td>1</td>\n",
       "      <td>1</td>\n",
       "      <td>1</td>\n",
       "      <td>2</td>\n",
       "      <td>5</td>\n",
       "      <td>1</td>\n",
       "      <td>5</td>\n",
       "      <td>48.827273</td>\n",
       "      <td>45.327273</td>\n",
       "      <td>0.000000</td>\n",
       "      <td>1</td>\n",
       "      <td>0</td>\n",
       "      <td>1</td>\n",
       "    </tr>\n",
       "    <tr>\n",
       "      <th>5175</th>\n",
       "      <td>CaptureSite_25_200903</td>\n",
       "      <td>CaptureSite_25</td>\n",
       "      <td>2009</td>\n",
       "      <td>21</td>\n",
       "      <td>1</td>\n",
       "      <td>1</td>\n",
       "      <td>1</td>\n",
       "      <td>1</td>\n",
       "      <td>2</td>\n",
       "      <td>1</td>\n",
       "      <td>3</td>\n",
       "      <td>50.838095</td>\n",
       "      <td>47.247619</td>\n",
       "      <td>0.000000</td>\n",
       "      <td>1</td>\n",
       "      <td>0</td>\n",
       "      <td>2</td>\n",
       "    </tr>\n",
       "  </tbody>\n",
       "</table>\n",
       "</div>"
      ],
      "text/plain": [
       "                         ID     CaptureSite  Date_TimeCaughtYear  \\\n",
       "5166  CaptureSite_25_200847  CaptureSite_25                 2008   \n",
       "5170  CaptureSite_25_200851  CaptureSite_25                 2008   \n",
       "5916  CaptureSite_27_201307  CaptureSite_27                 2013   \n",
       "5167  CaptureSite_25_200848  CaptureSite_25                 2008   \n",
       "5175  CaptureSite_25_200903  CaptureSite_25                 2009   \n",
       "\n",
       "      Capture_Number  Researcher  LandingSite  ForagingGround  CaptureMethod  \\\n",
       "5166              35           1            1               1              1   \n",
       "5170              28           1            1               1              1   \n",
       "5916              23           4            1               1              1   \n",
       "5167              22           1            1               1              2   \n",
       "5175              21           1            1               1              1   \n",
       "\n",
       "      Fisher  Species  Lost_Tags     CCL_cm     CCW_cm  Weight_Kg  Sex  \\\n",
       "5166       7        1          3  48.831429  45.380000   0.000000    1   \n",
       "5170       3        1          2  49.278571  46.089286   0.000000    1   \n",
       "5916       4        1          3  58.982609  53.278261  31.032609    2   \n",
       "5167       5        1          5  48.827273  45.327273   0.000000    1   \n",
       "5175       2        1          3  50.838095  47.247619   0.000000    1   \n",
       "\n",
       "      Status  ReleaseSite  \n",
       "5166       1            1  \n",
       "5170       0            2  \n",
       "5916       2            4  \n",
       "5167       0            1  \n",
       "5175       0            2  "
      ]
     },
     "execution_count": 124,
     "metadata": {},
     "output_type": "execute_result"
    }
   ],
   "source": [
    "trainTurtle.sort_values(by=[\"Capture_Number\"], ascending=False).head()"
   ]
  },
  {
   "cell_type": "code",
   "execution_count": 103,
   "metadata": {},
   "outputs": [
    {
     "data": {
      "text/plain": [
       "<matplotlib.axes._subplots.AxesSubplot at 0x7f2857e173a0>"
      ]
     },
     "execution_count": 103,
     "metadata": {},
     "output_type": "execute_result"
    },
    {
     "data": {
      "image/png": "[encoded data removed]",
      "text/plain": [
       "<Figure size 842.4x595.44 with 1 Axes>"
      ]
     },
     "metadata": {},
     "output_type": "display_data"
    }
   ],
   "source": [
    "sns.scatterplot(x=\"Capture_Number\", y=\"Researcher\", data=trainTurtle)"
   ]
  },
  {
   "cell_type": "code",
   "execution_count": 115,
   "metadata": {},
   "outputs": [
    {
     "data": {
      "text/plain": [
       "<matplotlib.axes._subplots.AxesSubplot at 0x7f2857c34be0>"
      ]
     },
     "execution_count": 115,
     "metadata": {},
     "output_type": "execute_result"
    },
    {
     "data": {
      "image/png": "[encoded data removed]",
      "text/plain": [
       "<Figure size 842.4x595.44 with 1 Axes>"
      ]
     },
     "metadata": {},
     "output_type": "display_data"
    }
   ],
   "source": [
    "sns.scatterplot(x=\"Capture_Number\", y=\"CCL_cm\", data=trainTurtle)"
   ]
  },
  {
   "cell_type": "code",
   "execution_count": 127,
   "metadata": {},
   "outputs": [
    {
     "data": {
      "text/plain": [
       "<matplotlib.axes._subplots.AxesSubplot at 0x7f2857519d90>"
      ]
     },
     "execution_count": 127,
     "metadata": {},
     "output_type": "execute_result"
    },
    {
     "data": {
      "image/png": "[encoded data removed]",
      "text/plain": [
       "<Figure size 842.4x595.44 with 1 Axes>"
      ]
     },
     "metadata": {},
     "output_type": "display_data"
    }
   ],
   "source": [
    "sns.scatterplot(x=\"Capture_Number\", y=\"Weight_Kg\", data=trainTurtle)"
   ]
  },
  {
   "cell_type": "code",
   "execution_count": 110,
   "metadata": {},
   "outputs": [
    {
     "data": {
      "text/plain": [
       "<matplotlib.axes._subplots.AxesSubplot at 0x7f2857b19790>"
      ]
     },
     "execution_count": 110,
     "metadata": {},
     "output_type": "execute_result"
    },
    {
     "data": {
      "image/png": "[encoded data removed]",
      "text/plain": [
       "<Figure size 842.4x595.44 with 1 Axes>"
      ]
     },
     "metadata": {},
     "output_type": "display_data"
    }
   ],
   "source": [
    "sns.boxplot(x=\"Date_TimeCaughtYear\", y=\"Capture_Number\", \n",
    "            data=trainTurtle[(trainTurtle[\"Date_TimeCaughtYear\"] > 1997) & (trainTurtle[\"Date_TimeCaughtYear\"] < 2008)])"
   ]
  },
  {
   "cell_type": "code",
   "execution_count": 111,
   "metadata": {},
   "outputs": [
    {
     "data": {
      "text/plain": [
       "<matplotlib.axes._subplots.AxesSubplot at 0x7f2857b8d3d0>"
      ]
     },
     "execution_count": 111,
     "metadata": {},
     "output_type": "execute_result"
    },
    {
     "data": {
      "image/png": "[encoded data removed]",
      "text/plain": [
       "<Figure size 842.4x595.44 with 1 Axes>"
      ]
     },
     "metadata": {},
     "output_type": "display_data"
    }
   ],
   "source": [
    "sns.boxplot(x=\"Date_TimeCaughtYear\", y=\"Capture_Number\", \n",
    "            data=trainTurtle[(trainTurtle[\"Date_TimeCaughtYear\"] > 2007) & (trainTurtle[\"Date_TimeCaughtYear\"] < 2019)])"
   ]
  },
  {
   "cell_type": "code",
   "execution_count": null,
   "metadata": {},
   "outputs": [],
   "source": []
  }
 ],
 "metadata": {
  "kernelspec": {
   "display_name": "Python 3",
   "language": "python",
   "name": "python3"
  },
  "language_info": {
   "codemirror_mode": {
    "name": "ipython",
    "version": 3
   },
   "file_extension": ".py",
   "mimetype": "text/x-python",
   "name": "python",
   "nbconvert_exporter": "python",
   "pygments_lexer": "ipython3",
   "version": "3.8.10"
  }
 },
 "nbformat": 4,
 "nbformat_minor": 4
}
