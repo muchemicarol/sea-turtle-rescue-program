{
 "cells": [
  {
   "cell_type": "markdown",
   "metadata": {},
   "source": [
    "**The objective of this challenge is to forecast the number of turtles caught per week per capture site. This will help Local Ocean plan their staff schedules and budget.**"
   ]
  },
  {
   "cell_type": "code",
   "execution_count": null,
   "metadata": {},
   "outputs": [],
   "source": [
    "import matplotlib.pyplot as plt\n",
    "import numpy as np\n",
    "import pandas as pd\n",
    "import seaborn as sns\n",
    "\n",
    "pd.set_option(\"display.max_columns\", 200, \"display.max_rows\", 200)\n",
    "sns.set(rc={'figure.figsize':(11.7,8.27)})"
   ]
  },
  {
   "cell_type": "code",
   "execution_count": null,
   "metadata": {},
   "outputs": [],
   "source": [
    "turtle = pd.read_csv(\"train.csv\", delimiter=\",\")\n",
    "varDesc = pd.read_csv(\"variable_definitions.csv\", engine=\"python\")\n",
    "submissionSample = pd.read_csv(\"Sample_sub.csv\")\n",
    "turtle.shape\n",
    "\n",
    "initialRows = turtle.shape[0]"
   ]
  },
  {
   "cell_type": "code",
   "execution_count": null,
   "metadata": {
    "scrolled": true
   },
   "outputs": [],
   "source": [
    "turtle.head()"
   ]
  },
  {
   "cell_type": "markdown",
   "metadata": {},
   "source": [
    "There are some identified inconsisenties: \n",
    "* For example, \"Creek\" and \"creek\" both mean the same thing. In this case, we will capitalize all entries within the said variable. <br>\n",
    "* Converting the date variables to date time datatype. <br> \n",
    "* Drop the string row values in the Date_TimeRelease column. <br>"
   ]
  },
  {
   "cell_type": "code",
   "execution_count": null,
   "metadata": {},
   "outputs": [],
   "source": [
    "turtle[\"ForagingGround\"] = turtle[\"ForagingGround\"].apply(lambda x: str(x).capitalize())\n",
    "turtle[\"CaptureMethod\"] = turtle[\"CaptureMethod\"].apply(lambda x: str(x).capitalize())"
   ]
  },
  {
   "cell_type": "code",
   "execution_count": null,
   "metadata": {},
   "outputs": [],
   "source": [
    "# releaseRows = [\"ReleaseSite_50\", \"Released\", \"ReleaseSite_62\", \"ReleaseSite_56\", \"ReleaseSite_8\", \n",
    "#                \" green algae on the right inframarginal\", \" notch on fifth CS\", \"ReleaseSite_26\", \n",
    "#                \"ReleaseSite_21\", \" sm Bs all flips + shoulders\", \" barnacles (tiny) around neck\", \n",
    "#                \" notches on rear MS\", \"ReleaseSite_68\", \"ReleaseSite_19\", \"ReleaseSite_18\", \"ReleaseSite_11\", \n",
    "#                \"ReleaseSite_73\", \" notch on eleventh PMS\", \" tag hole on LRF\", \" tip of fifth CS missing\", \n",
    "#                \"ReleaseSite_9\", \" covered with thick green algae. Euthanised 27/9\", \n",
    "#                \" few small barnacles on head& FF + plastron& net damage on RFF\", \" flaking plastron\", \n",
    "#                \"ReleaseSite_39\", \" calcerous algal patches to rear\", \" sm bs on flips\", \n",
    "#                \" fresh wounds on RFs\", \" indent 7RMS\", \" a v-shaped notch in the middle of RFF\", \n",
    "#                \"ReleaseSite_35\", \" inside LFFsmall notch wound\", \"ReleaseSite_17\", \n",
    "#                \" LFflip inside last 3rd small fresh wound\", \" small piece on LRF missing\", \n",
    "#                \" calcareous algae on the plastron\", \" small healing tissue on neck\", \n",
    "#                \" outer edge of both RF are frayed\", \" few small barnacles on flippers\", \n",
    "#                ' 1 b at junction of 1 CS+ 2 CS + 1 LLS', ' scar 3LLS', ' the edge of the LFF is jagged', \n",
    "#                ' swelling caused by the tagging', ' at least 50% of the right rear flipper is missing', \n",
    "#                ' 5 postoculars on the left side', ' 3 post-oculars on either side', \n",
    "#                ' 5 post-oculars on the right side',  ' 1 B on 2 CS& 11 RMS& R supra and LFF', \n",
    "#                \"ReleaseSite_70\", 'ReleaseSite_52', ' some flaking at scute joins', ' end supras broken off', \n",
    "#                ' 2 sm wounds on neck (scraping)', \" calcareous algae on eigth CS\", \n",
    "#                \" flaking on edges of scutes\", \" small Bs on front flippers\", \" \", \n",
    "#                \" flaking on the joints& light greenish algae on CS\", \"ReleaseSite_7\", \" light algae covering\", \n",
    "#                \" chips (inside edeg) and net damage on front flippers\", \" net damage on tip of LFF\", \n",
    "#                \" green and white calcareous algae on the plastron\", \" small dent on the nuchal scute\", \n",
    "#                \"ReleaseSite_4\", \"ReleaseSite_23\", \" some tiny barnacles on plastron\", \"ReleaseSite_60\", \n",
    "#                \" much red/green algae & bs on underside\", \"ReleaseSite_0\", \" RSCS missing tip\", \n",
    "#                \" small B on R supra\", \" light green algae on shell\", \" healing wound tissue at join 4CS/4RLS\", \n",
    "#                \" tag rip in LFF\", \" small barnacles on the carapace\", \n",
    "#                \" small barnacles on plastron and around the tail\", \" clean plastron\", \" flaking on plastron\", \n",
    "#                \" soft carapace\", \"ReleaseSite_32\", \n",
    "#                \"  notch in left supracandal + between supras.+ lost its tag from left rear flipper some time ago+ no fresh wound+ a little light algae covering\", \n",
    "#                \"ReleaseSite_29\", \" = all small bs\", \" light green algae on carapace\", \" supras half broken\", \n",
    "#                \" lge notch 10LMS& 8&10 and 11RMS\", \" tag rips on both RFs\", \" green algae on the plastrons\", \n",
    "#                \" barnacles on plastron and flippers (removed)\", \" 6CS\", \" L supracaudal is half broken\", \n",
    "#                \" scutepeeling on 10th and 11th RMS\", \" many sm bs on rear of shell& chip RRF\", \n",
    "#                \" b scar 1LLs & 5CS& sm chip RRF\", \" notch on join 10/11LMS\", \n",
    "#                \" right front flipper has b's at end\", \" flaking from 2nd>5th CS and 10th RMS\", \n",
    "#                \" a small scute between fourth and fifth LLS\", \"  a chip  9th LM\", \n",
    "#                ' edgers of both RFs are jagged', ' few white patches of cancerous algae on rear scutes', \n",
    "#                \"ReleaseSite_55\", \" 2/3 of LRF is missing\", ' green algae on the plastron', \n",
    "#                ' thin green algae on both sides of the inframarginals', \" green algae on rear carapace\", \n",
    "#                \" tag rip on LRF\"\n",
    "# ]\n",
    "# turtle = turtle[~(turtle[\"Date_TimeRelease\"].isin(releaseRows))]\n",
    "\n",
    "# print(\"{} rows dropped. {} values are none date in date time release\".format(initialRows - turtle.shape[0], \n",
    "#                                                                              len(releaseRows)))"
   ]
  },
  {
   "cell_type": "code",
   "execution_count": null,
   "metadata": {
    "scrolled": false
   },
   "outputs": [],
   "source": [
    "# convert to datetime datatype\n",
    "turtle[\"Date_TimeCaught\"] = pd.to_datetime(turtle[\"Date_TimeCaught\"])\n",
    "# turtle[\"Date_TimeRelease\"] = pd.to_datetime(turtle[\"Date_TimeRelease\"])\n",
    "turtle[[\"Date_TimeCaught\", \"Date_TimeRelease\"]].dtypes"
   ]
  },
  {
   "cell_type": "code",
   "execution_count": null,
   "metadata": {
    "scrolled": true
   },
   "outputs": [],
   "source": [
    "# separate the year and week from the date provided\n",
    "turtle[\"Date_TimeCaughtYear\"] = turtle[\"Date_TimeCaught\"].apply(lambda x: x.strftime(\"%Y\"))\n",
    "turtle[\"Date_TimeCaughtWeek\"] = turtle[\"Date_TimeCaught\"].apply(lambda x: x.strftime(\"%W\"))\n",
    "\n",
    "# turtle[\"Date_TimeReleaseYear\"] = turtle[\"Date_TimeRelease\"].apply(lambda x: x.strftime(\"%Y\"))\n",
    "# turtle[\"Date_TimeReleaseWeek\"] = turtle[\"Date_TimeRelease\"].apply(lambda x: x.strftime(\"%W\"))\n",
    "\n",
    "turtle[[\"Date_TimeCaughtYear\", \"Date_TimeCaughtWeek\"]].head()"
   ]
  },
  {
   "cell_type": "markdown",
   "metadata": {},
   "source": [
    "It appears that most of the turtles are released on the same day they are captured. With this information, we will fill in the null released date for turtles with the released status similar to the date they were caught."
   ]
  },
  {
   "cell_type": "code",
   "execution_count": null,
   "metadata": {},
   "outputs": [],
   "source": [
    "turtle[turtle[\"Date_TimeRelease\"].isna()]"
   ]
  },
  {
   "cell_type": "code",
   "execution_count": null,
   "metadata": {},
   "outputs": [],
   "source": [
    "turtle[\"Date_TimeRelease\"] = np.where((turtle[\"Date_TimeRelease\"].isnull()) & (turtle[\"Status\"] == \"Released\"), turtle[\"Date_TimeCaught\"], turtle[\"Date_TimeRelease\"])"
   ]
  },
  {
   "cell_type": "code",
   "execution_count": null,
   "metadata": {},
   "outputs": [],
   "source": [
    "turtle[\"Status\"] = np.where((turtle[\"Date_TimeRelease\"].notnull()) & (turtle[\"Status\"] != \"Released\"), \"Released\", turtle[\"Status\"])"
   ]
  },
  {
   "cell_type": "code",
   "execution_count": null,
   "metadata": {},
   "outputs": [],
   "source": [
    "turtle[turtle[\"Status\"] == \"Admitted\"][\"Date_TimeRelease\"].unique()"
   ]
  },
  {
   "cell_type": "markdown",
   "metadata": {},
   "source": [
    "All turtles that were admitted, do not have a release date. The assumption in this case would be that all admitted turtles are not released.\n",
    "<br><br>\n",
    "The Status column is very messy. For that reason, it shall be dropped."
   ]
  },
  {
   "cell_type": "code",
   "execution_count": null,
   "metadata": {},
   "outputs": [],
   "source": []
  },
  {
   "cell_type": "code",
   "execution_count": null,
   "metadata": {},
   "outputs": [],
   "source": [
    "turtle[turtle[\"Date_TimeRelease\"].isna()][\"Status\"].unique()"
   ]
  },
  {
   "cell_type": "markdown",
   "metadata": {},
   "source": [
    "## Exploratory Data Analysis"
   ]
  },
  {
   "cell_type": "code",
   "execution_count": null,
   "metadata": {},
   "outputs": [],
   "source": [
    "sns.countplot(y=\"ForagingGround\", data=turtle)"
   ]
  },
  {
   "cell_type": "code",
   "execution_count": null,
   "metadata": {},
   "outputs": [],
   "source": [
    "sns.countplot(y=\"CaptureMethod\", data=turtle, order=turtle[\"CaptureMethod\"].value_counts().index)"
   ]
  },
  {
   "cell_type": "code",
   "execution_count": null,
   "metadata": {},
   "outputs": [],
   "source": [
    "sns.countplot(y=\"Status\", data=turtle, order=turtle[\"Status\"].value_counts().index)"
   ]
  },
  {
   "cell_type": "code",
   "execution_count": null,
   "metadata": {},
   "outputs": [],
   "source": [
    "sns.distplot(turtle[\"CCL_cm\"], kde=False)"
   ]
  },
  {
   "cell_type": "code",
   "execution_count": null,
   "metadata": {},
   "outputs": [],
   "source": [
    "sns.distplot(turtle[\"CCW_cm\"], kde=False)"
   ]
  },
  {
   "cell_type": "code",
   "execution_count": null,
   "metadata": {},
   "outputs": [],
   "source": [
    "sns.distplot(turtle[\"Weight_Kg\"], kde=False)"
   ]
  },
  {
   "cell_type": "code",
   "execution_count": null,
   "metadata": {},
   "outputs": [],
   "source": [
    "turtle.isnull().sum()"
   ]
  },
  {
   "cell_type": "code",
   "execution_count": null,
   "metadata": {},
   "outputs": [],
   "source": [
    "turtle.fillna(value={\"Weight_Kg\": 0, \"Sex\": \"Unknown\", \"Lost_Tags\": \"None\", \"T_Number\": \"None\"}, inplace=True)\n",
    "turtle.replace({\"Sex\": {\"Not_Recorded\": \"Unknown\"}}, inplace=True)"
   ]
  },
  {
   "cell_type": "code",
   "execution_count": null,
   "metadata": {},
   "outputs": [],
   "source": [
    "turtle[\"Sex\"].unique()"
   ]
  },
  {
   "cell_type": "code",
   "execution_count": null,
   "metadata": {},
   "outputs": [],
   "source": [
    "turtle[\"Weight_Kg\"].head(2)"
   ]
  },
  {
   "cell_type": "code",
   "execution_count": null,
   "metadata": {},
   "outputs": [],
   "source": [
    "submissionSample.head(2)"
   ]
  },
  {
   "cell_type": "code",
   "execution_count": null,
   "metadata": {},
   "outputs": [],
   "source": [
    "turtle[\"Target\"] = turtle[\"CaptureSite\"] + \"_\" + turtle[\"Date_TimeCaughtYear\"] + turtle[\"Date_TimeCaughtWeek\"]\n",
    "turtle[[\"Target\", \"CaptureSite\"]].head()"
   ]
  },
  {
   "cell_type": "code",
   "execution_count": null,
   "metadata": {},
   "outputs": [],
   "source": [
    "trainTurtle = turtle.groupby([\"Target\", \"CaptureSite\", \"Date_TimeCaughtYear\", \"Date_TimeCaughtWeek\"]).agg({\"Rescue_ID\": \"count\", \"Researcher\": \"nunique\", \n",
    "                                                             \"LandingSite\": \"nunique\", \n",
    "                                                             \"ForagingGround\": \"nunique\", \n",
    "                                                             \"CaptureMethod\": \"nunique\", \"Fisher\": \"nunique\", \n",
    "                                                             \"Species\": \"nunique\", \"Lost_Tags\": \"nunique\", \n",
    "                                                             \"CCL_cm\": \"mean\", \"CCW_cm\": \"mean\", \n",
    "                                                             \"Weight_Kg\": \"mean\", \"Sex\": \"nunique\", \n",
    "                                                             \"Status\": \"nunique\", \n",
    "                                                             \"ReleaseSite\": \"nunique\"}).reset_index()\n",
    "trainTurtle.shape"
   ]
  },
  {
   "cell_type": "code",
   "execution_count": null,
   "metadata": {},
   "outputs": [],
   "source": [
    "trainTurtle.rename(columns={\"Target\": \"ID\", \"Rescue_ID\": \"Capture_Number\"}, inplace=True)"
   ]
  },
  {
   "cell_type": "code",
   "execution_count": null,
   "metadata": {},
   "outputs": [],
   "source": [
    "trainTurtle[\"Date_TimeCaughtWeek\"] = trainTurtle[\"Date_TimeCaughtWeek\"].astype(int)"
   ]
  },
  {
   "cell_type": "code",
   "execution_count": null,
   "metadata": {},
   "outputs": [],
   "source": [
    "trainTurtle[\"Date_TimeCaughtYear\"] = pd.to_numeric(trainTurtle[\"Date_TimeCaughtYear\"])"
   ]
  },
  {
   "cell_type": "code",
   "execution_count": null,
   "metadata": {},
   "outputs": [],
   "source": [
    "trainTurtle.head()"
   ]
  },
  {
   "cell_type": "code",
   "execution_count": null,
   "metadata": {},
   "outputs": [],
   "source": [
    "trainTurtle.sort_values(by=[\"Capture_Number\"], ascending=False).head()"
   ]
  },
  {
   "cell_type": "code",
   "execution_count": null,
   "metadata": {},
   "outputs": [],
   "source": [
    "sns.scatterplot(x=\"Capture_Number\", y=\"Researcher\", data=trainTurtle)"
   ]
  },
  {
   "cell_type": "code",
   "execution_count": null,
   "metadata": {},
   "outputs": [],
   "source": [
    "sns.scatterplot(x=\"Capture_Number\", y=\"CCL_cm\", data=trainTurtle)"
   ]
  },
  {
   "cell_type": "code",
   "execution_count": null,
   "metadata": {},
   "outputs": [],
   "source": [
    "sns.scatterplot(x=\"Capture_Number\", y=\"Weight_Kg\", data=trainTurtle)"
   ]
  },
  {
   "cell_type": "code",
   "execution_count": null,
   "metadata": {},
   "outputs": [],
   "source": [
    "sns.boxplot(x=\"Date_TimeCaughtYear\", y=\"Capture_Number\", \n",
    "            data=trainTurtle[(trainTurtle[\"Date_TimeCaughtYear\"] > 1997) & (trainTurtle[\"Date_TimeCaughtYear\"] < 2008)])"
   ]
  },
  {
   "cell_type": "code",
   "execution_count": null,
   "metadata": {},
   "outputs": [],
   "source": [
    "sns.boxplot(x=\"Date_TimeCaughtYear\", y=\"Capture_Number\", \n",
    "            data=trainTurtle[(trainTurtle[\"Date_TimeCaughtYear\"] > 2007) & (trainTurtle[\"Date_TimeCaughtYear\"] < 2019)])"
   ]
  },
  {
   "cell_type": "code",
   "execution_count": null,
   "metadata": {},
   "outputs": [],
   "source": [
    "sns.lineplot(x=\"Date_TimeCaughtYear\", y=\"Capture_Number\", \n",
    "             data=trainTurtle.groupby([\"Date_TimeCaughtYear\"])[\"Capture_Number\"].agg(\"sum\").reset_index())"
   ]
  },
  {
   "cell_type": "markdown",
   "metadata": {},
   "source": [
    "Between 1998 and 2018, there has been a positive trend. This simply means, the number of rescued sea turtles has been increasing across the decades."
   ]
  },
  {
   "cell_type": "code",
   "execution_count": null,
   "metadata": {},
   "outputs": [],
   "source": [
    "years = sorted(trainTurtle[\"Date_TimeCaughtYear\"].unique().tolist())\n",
    "\n",
    "for year in years[:5]:\n",
    "    sns.lineplot(x=\"Date_TimeCaughtWeek\", y=\"Capture_Number\", label=year, \n",
    "                 data=trainTurtle[trainTurtle[\"Date_TimeCaughtYear\"] == year].groupby([\"Date_TimeCaughtWeek\"])[\"Capture_Number\"].agg(\"sum\").reset_index())\n",
    "\n",
    "plt.tight_layout()"
   ]
  },
  {
   "cell_type": "code",
   "execution_count": null,
   "metadata": {},
   "outputs": [],
   "source": [
    "for year in years[5:10]:\n",
    "    sns.lineplot(x=\"Date_TimeCaughtWeek\", y=\"Capture_Number\", label=year,\n",
    "             data=trainTurtle[trainTurtle[\"Date_TimeCaughtYear\"] == year].groupby([\"Date_TimeCaughtWeek\"])[\"Capture_Number\"].agg(\"sum\").reset_index())\n",
    "\n",
    "plt.tight_layout()"
   ]
  },
  {
   "cell_type": "code",
   "execution_count": null,
   "metadata": {},
   "outputs": [],
   "source": [
    "for year in years[10:15]:\n",
    "    sns.lineplot(x=\"Date_TimeCaughtWeek\", y=\"Capture_Number\", label=year,\n",
    "             data=trainTurtle[trainTurtle[\"Date_TimeCaughtYear\"] == year].groupby([\"Date_TimeCaughtWeek\"])[\"Capture_Number\"].agg(\"sum\").reset_index())\n",
    "\n",
    "plt.tight_layout()"
   ]
  },
  {
   "cell_type": "code",
   "execution_count": null,
   "metadata": {},
   "outputs": [],
   "source": [
    "for year in years[15:]:\n",
    "    sns.lineplot(x=\"Date_TimeCaughtWeek\", y=\"Capture_Number\", label=year,\n",
    "             data=trainTurtle[trainTurtle[\"Date_TimeCaughtYear\"] == year].groupby([\"Date_TimeCaughtWeek\"])[\"Capture_Number\"].agg(\"sum\").reset_index())\n",
    "\n",
    "plt.tight_layout()"
   ]
  },
  {
   "cell_type": "code",
   "execution_count": null,
   "metadata": {},
   "outputs": [],
   "source": [
    "sns.lineplot(x=\"Date_TimeCaughtYear\", y=\"Capture_Number\", \n",
    "             data=trainTurtle.groupby([\"Date_TimeCaughtYear\"])[\"Capture_Number\"].agg(\"mean\").reset_index())"
   ]
  },
  {
   "cell_type": "code",
   "execution_count": null,
   "metadata": {},
   "outputs": [],
   "source": [
    "years = sorted(trainTurtle[\"Date_TimeCaughtYear\"].unique().tolist())\n",
    "\n",
    "for year in years[:5]:\n",
    "    sns.lineplot(x=\"Date_TimeCaughtWeek\", y=\"Capture_Number\", label=year, \n",
    "                 data=trainTurtle[trainTurtle[\"Date_TimeCaughtYear\"] == year].groupby([\"Date_TimeCaughtWeek\"])[\"Capture_Number\"].agg(\"mean\").reset_index())\n",
    "\n",
    "plt.tight_layout()"
   ]
  },
  {
   "cell_type": "code",
   "execution_count": null,
   "metadata": {},
   "outputs": [],
   "source": [
    "for year in years[5:10]:\n",
    "    sns.lineplot(x=\"Date_TimeCaughtWeek\", y=\"Capture_Number\", label=year,\n",
    "             data=trainTurtle[trainTurtle[\"Date_TimeCaughtYear\"] == year].groupby([\"Date_TimeCaughtWeek\"])[\"Capture_Number\"].agg(\"mean\").reset_index())\n",
    "\n",
    "plt.tight_layout()"
   ]
  },
  {
   "cell_type": "code",
   "execution_count": null,
   "metadata": {},
   "outputs": [],
   "source": [
    "for year in years[10:15]:\n",
    "    sns.lineplot(x=\"Date_TimeCaughtWeek\", y=\"Capture_Number\", label=year,\n",
    "             data=trainTurtle[trainTurtle[\"Date_TimeCaughtYear\"] == year].groupby([\"Date_TimeCaughtWeek\"])[\"Capture_Number\"].agg(\"mean\").reset_index())\n",
    "\n",
    "plt.tight_layout()"
   ]
  },
  {
   "cell_type": "code",
   "execution_count": null,
   "metadata": {},
   "outputs": [],
   "source": [
    "for year in years[15:]:\n",
    "    sns.lineplot(x=\"Date_TimeCaughtWeek\", y=\"Capture_Number\", label=year,\n",
    "             data=trainTurtle[trainTurtle[\"Date_TimeCaughtYear\"] == year].groupby([\"Date_TimeCaughtWeek\"])[\"Capture_Number\"].agg(\"mean\").reset_index())\n",
    "\n",
    "plt.tight_layout()"
   ]
  },
  {
   "cell_type": "code",
   "execution_count": null,
   "metadata": {},
   "outputs": [],
   "source": [
    "trainTurtle[[\"Date_TimeCaughtYear\", \"Capture_Number\"]].head()"
   ]
  },
  {
   "cell_type": "code",
   "execution_count": null,
   "metadata": {},
   "outputs": [],
   "source": [
    "trainTurtle[\"SMA_10\"] = trainTurtle[\"Capture_Number\"].rolling(5, min_periods=1).mean()"
   ]
  },
  {
   "cell_type": "code",
   "execution_count": null,
   "metadata": {},
   "outputs": [],
   "source": [
    "trainTurtle[\"SMA_10\"]"
   ]
  },
  {
   "cell_type": "code",
   "execution_count": null,
   "metadata": {},
   "outputs": [],
   "source": []
  }
 ],
 "metadata": {
  "kernelspec": {
   "display_name": "Python 3",
   "language": "python",
   "name": "python3"
  },
  "language_info": {
   "codemirror_mode": {
    "name": "ipython",
    "version": 3
   },
   "file_extension": ".py",
   "mimetype": "text/x-python",
   "name": "python",
   "nbconvert_exporter": "python",
   "pygments_lexer": "ipython3",
   "version": "3.8.10"
  }
 },
 "nbformat": 4,
 "nbformat_minor": 4
}
